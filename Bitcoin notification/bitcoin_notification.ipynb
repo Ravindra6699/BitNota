{
 "cells": [
  {
   "cell_type": "code",
   "execution_count": null,
   "metadata": {},
   "outputs": [],
   "source": [
    "import requests\n",
    "import time\n",
    "from datetime import datetime\n",
    "\n",
    "BITCOIN_PRICE_THRESHOLD = 10000\n",
    "BITCOIN_API_URL = 'https://api.coinmarketcap.com/v1/ticker/bitcoin/'\n",
    "IFTTT_WEBHOOKS_URL = 'https://maker.ifttt.com/trigger/{}/with/key/mf2doJQa8dfLm6_PvvxylxCzieotkemCUvM2T6QMlhQ'\n",
    "\n",
    "def get_latest_bitcoin_price():\n",
    "    response = requests.get(BITCOIN_API_URL)\n",
    "    response_json = response.json()\n",
    "    return float(response_json[0]['price_usd'])  # Convert the price to a floating point number\n",
    "\n",
    "def post_ifttt_webhook(event, value):\n",
    "    data = {'value1': value}  # The payload that will be sent to IFTTT service\n",
    "    ifttt_event_url = IFTTT_WEBHOOKS_URL.format(event)  # Inserts our desired event\n",
    "    requests.post(ifttt_event_url, json=data)  # Sends a HTTP POST request to the webhook URL\n",
    "\n",
    "def format_bitcoin_history(bitcoin_history):\n",
    "    rows = []\n",
    "    for bitcoin_price in bitcoin_history:\n",
    "        date = bitcoin_price['date'].strftime('%d.%m.%Y %H:%M')  # Formats the date into a string: '24.02.2018 15:09'\n",
    "        price = bitcoin_price['price']\n",
    "        # <b> (bold) tag creates bolded text\n",
    "        row = '{}: $<b>{}</b>'.format(date, price)  # 24.02.2018 15:09: $<b>10123.4</b>\n",
    "        rows.append(row)\n",
    "\n",
    "    # Use a <br> (break) tag to create a new line\n",
    "    return '<br>'.join(rows)  # Join the rows delimited by <br> tag: row1<br>row2<br>row3\n",
    "\n",
    "def main():\n",
    "    bitcoin_history = []\n",
    "    while True:\n",
    "        price = get_latest_bitcoin_price()\n",
    "        date = datetime.now()\n",
    "        bitcoin_history.append({'date': date, 'price': price})\n",
    "\n",
    "        # Send an emergency notification\n",
    "        if price < BITCOIN_PRICE_THRESHOLD:\n",
    "            post_ifttt_webhook('bitcoin_price_emergency', price)\n",
    "\n",
    "        # Send a Telegram notification\n",
    "        if len(bitcoin_history) == 5:  # Once we have 5 items in our bitcoin_history send an update\n",
    "            post_ifttt_webhook('bitcoin_price_update', format_bitcoin_history(bitcoin_history))\n",
    "            # Reset the history\n",
    "            bitcoin_history = []\n",
    "\n",
    "        time.sleep(5 * 60)  # Sleep for 5 minutes (for testing purposes you can set it to a lower number)\n",
    "\n",
    "if __name__ == '__main__':\n",
    "    main()"
   ]
  },
  {
   "cell_type": "code",
   "execution_count": null,
   "metadata": {},
   "outputs": [],
   "source": []
  },
  {
   "cell_type": "code",
   "execution_count": null,
   "metadata": {},
   "outputs": [],
   "source": []
  }
 ],
 "metadata": {
  "kernelspec": {
   "display_name": "Python 3",
   "language": "python",
   "name": "python3"
  },
  "language_info": {
   "codemirror_mode": {
    "name": "ipython",
    "version": 3
   },
   "file_extension": ".py",
   "mimetype": "text/x-python",
   "name": "python",
   "nbconvert_exporter": "python",
   "pygments_lexer": "ipython3",
   "version": "3.7.1"
  }
 },
 "nbformat": 4,
 "nbformat_minor": 2
}
