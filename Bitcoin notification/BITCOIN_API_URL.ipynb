{
 "cells": [
  {
   "cell_type": "code",
   "execution_count": 2,
   "metadata": {},
   "outputs": [
    {
     "data": {
      "text/plain": [
       "{'id': 'bitcoin',\n",
       " 'name': 'Bitcoin',\n",
       " 'symbol': 'BTC',\n",
       " 'rank': '1',\n",
       " 'price_usd': '3469.45810537',\n",
       " 'price_btc': '1.0',\n",
       " '24h_volume_usd': '5267866053.44',\n",
       " 'market_cap_usd': '60786595632.0',\n",
       " 'available_supply': '17520487.0',\n",
       " 'total_supply': '17520487.0',\n",
       " 'max_supply': '21000000.0',\n",
       " 'percent_change_1h': '0.03',\n",
       " 'percent_change_24h': '0.52',\n",
       " 'percent_change_7d': '1.02',\n",
       " 'last_updated': '1549368086'}"
      ]
     },
     "execution_count": 2,
     "metadata": {},
     "output_type": "execute_result"
    }
   ],
   "source": [
    "import requests\n",
    ">>> bitcoin_api_url = 'https://api.coinmarketcap.com/v1/ticker/bitcoin/'\n",
    ">>> response = requests.get(bitcoin_api_url)\n",
    ">>> response_json = response.json()\n",
    ">>> type(response_json) # The API returns a list\n",
    ">>> # Bitcoin data is the first element of the list\n",
    ">>> response_json[0]"
   ]
  },
  {
   "cell_type": "code",
   "execution_count": null,
   "metadata": {},
   "outputs": [],
   "source": []
  }
 ],
 "metadata": {
  "kernelspec": {
   "display_name": "Python 3",
   "language": "python",
   "name": "python3"
  },
  "language_info": {
   "codemirror_mode": {
    "name": "ipython",
    "version": 3
   },
   "file_extension": ".py",
   "mimetype": "text/x-python",
   "name": "python",
   "nbconvert_exporter": "python",
   "pygments_lexer": "ipython3",
   "version": "3.7.1"
  }
 },
 "nbformat": 4,
 "nbformat_minor": 2
}
